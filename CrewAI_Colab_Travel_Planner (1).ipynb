{
 "cells": [
  {
   "cell_type": "code",
   "execution_count": null,
   "id": "0e9cc7ee",
   "metadata": {},
   "outputs": [],
   "source": [
    "!pip install --upgrade crewai crewai-tools"
   ]
  },
  {
   "cell_type": "code",
   "execution_count": null,
   "id": "4a313742",
   "metadata": {},
   "outputs": [],
   "source": [
    "\n",
    "from crewai import Agent, Task, Crew, Process\n",
    "from crewai_tools import SerperDevTool\n",
    "from langchain_google_genai import ChatGoogleGenerativeAI\n",
    "import os\n",
    "\n",
    "# 🔐 Replace with your actual keys\n",
    "GEMINI_API_KEY = 'your_gemini_api_key'\n",
    "SERPER_API_KEY = 'your_serper_api_key'\n",
    "\n",
    "os.environ[\"GOOGLE_API_KEY\"] = GEMINI_API_KEY\n",
    "os.environ[\"SERPER_API_KEY\"] = SERPER_API_KEY\n"
   ]
  },
  {
   "cell_type": "code",
   "execution_count": null,
   "id": "48aaa5e8",
   "metadata": {},
   "outputs": [],
   "source": [
    "\n",
    "llm = ChatGoogleGenerativeAI(model=\"gemini-pro\", temperature=0.7)\n"
   ]
  },
  {
   "cell_type": "code",
   "execution_count": null,
   "id": "89a7174a",
   "metadata": {},
   "outputs": [],
   "source": [
    "\n",
    "search_tool = SerperDevTool()\n"
   ]
  },
  {
   "cell_type": "code",
   "execution_count": null,
   "id": "9e61547a",
   "metadata": {},
   "outputs": [],
   "source": [
    "\n",
    "destination = \"Delhi\"\n",
    "\n",
    "researcher = Agent(\n",
    "    role=\"Travel Researcher\",\n",
    "    goal=f\"Find historical sites, hotels near transport, and weather for {destination}.\",\n",
    "    verbose=True,\n",
    "    allow_delegation=False,\n",
    "    backstory=\"Expert travel researcher with real-time web access.\",\n",
    "    tools=[search_tool],\n",
    "    llm=llm\n",
    ")\n",
    "\n",
    "budget_planner = Agent(\n",
    "    role=\"Budget Planner\",\n",
    "    goal=f\"Estimate travel and hotel budget for 3 days in {destination}.\",\n",
    "    verbose=True,\n",
    "    allow_delegation=False,\n",
    "    backstory=\"A seasoned travel budget planner.\",\n",
    "    llm=llm\n",
    ")\n",
    "\n",
    "itinerary_planner = Agent(\n",
    "    role=\"Itinerary Planner\",\n",
    "    goal=f\"Create a 3-day travel plan based on research and budget for {destination}.\",\n",
    "    verbose=True,\n",
    "    allow_delegation=False,\n",
    "    backstory=\"Expert at organizing activities into optimal itineraries.\",\n",
    "    llm=llm\n",
    ")\n",
    "\n",
    "research_task = Task(\n",
    "    description=f\"Find historical sites, weather, and hotels near transport for {destination}.\",\n",
    "    agent=researcher\n",
    ")\n",
    "\n",
    "budget_task = Task(\n",
    "    description=f\"Create a realistic 3-day travel budget for {destination}, including food, hotel, and transport.\",\n",
    "    agent=budget_planner\n",
    ")\n",
    "\n",
    "itinerary_task = Task(\n",
    "    description=f\"Using research and budget, create a 3-day itinerary for {destination}.\",\n",
    "    agent=itinerary_planner\n",
    ")\n"
   ]
  },
  {
   "cell_type": "code",
   "execution_count": null,
   "id": "f236baae",
   "metadata": {},
   "outputs": [],
   "source": [
    "\n",
    "crew = Crew(\n",
    "    agents=[researcher, budget_planner, itinerary_planner],\n",
    "    tasks=[research_task, budget_task, itinerary_task],\n",
    "    verbose=True,\n",
    "    process=Process.sequential\n",
    ")\n",
    "\n",
    "result = crew.kickoff()\n",
    "print(\"\\n🎉 Final Itinerary Output:\\n\")\n",
    "print(result)\n"
   ]
  }
 ],
 "metadata": {},
 "nbformat": 4,
 "nbformat_minor": 5
}
